{
 "cells": [
  {
   "metadata": {
    "ExecuteTime": {
     "end_time": "2024-09-11T16:33:47.303958Z",
     "start_time": "2024-09-11T16:33:47.090834Z"
    }
   },
   "cell_type": "code",
   "source": [
    "%load_ext autoreload\n",
    "%autoreload 2"
   ],
   "id": "f310a88a12bce344",
   "outputs": [],
   "execution_count": 1
  },
  {
   "cell_type": "code",
   "id": "initial_id",
   "metadata": {
    "collapsed": true,
    "ExecuteTime": {
     "end_time": "2024-09-11T16:35:08.322464Z",
     "start_time": "2024-09-11T16:34:51.609156Z"
    }
   },
   "source": [
    "\"\"\"\n",
    "Imports\n",
    "\"\"\"\n",
    "\n",
    "import os\n",
    "from dataclasses import dataclass\n",
    "\n",
    "import numpy as np\n",
    "import pandas as pd\n",
    "import torch\n",
    "import torch.nn as nn\n",
    "import torch.nn.functional as F\n",
    "import torchvision\n",
    "import torchvision.transforms as T\n",
    "import torchvision.transforms.functional as TF\n",
    "import lightning as L\n",
    "import lightning.pytorch as pl\n",
    "\n",
    "torch.set_float32_matmul_precision('medium')\n",
    "\n",
    "import matplotlib.pyplot as plt\n",
    "plt.style.use('seaborn-v0_8-whitegrid')\n",
    "%matplotlib inline\n",
    "import seaborn as sns\n",
    "sns.set_theme(style=\"darkgrid\")"
   ],
   "outputs": [],
   "execution_count": 2
  },
  {
   "metadata": {},
   "cell_type": "markdown",
   "source": "# Check Data Module",
   "id": "2d242cd356d24d67"
  },
  {
   "metadata": {
    "ExecuteTime": {
     "end_time": "2024-09-11T16:40:58.832995Z",
     "start_time": "2024-09-11T16:40:58.382047Z"
    }
   },
   "cell_type": "code",
   "source": [
    "train_ds = torchvision.datasets.MNIST(\n",
    "                root='D:/mnist_reconstruction/data/train',\n",
    "                train=True,\n",
    "                download=True\n",
    "            )"
   ],
   "id": "6fda326e324a5e45",
   "outputs": [],
   "execution_count": 6
  },
  {
   "metadata": {
    "ExecuteTime": {
     "end_time": "2024-09-11T16:55:08.657912Z",
     "start_time": "2024-09-11T16:55:08.304611Z"
    }
   },
   "cell_type": "code",
   "source": "train_ds",
   "id": "8c40d6a07984c392",
   "outputs": [
    {
     "data": {
      "text/plain": [
       "Dataset MNIST\n",
       "    Number of datapoints: 60000\n",
       "    Root location: D:/mnist_reconstruction/data/train\n",
       "    Split: Train"
      ]
     },
     "execution_count": 8,
     "metadata": {},
     "output_type": "execute_result"
    }
   ],
   "execution_count": 8
  },
  {
   "metadata": {
    "ExecuteTime": {
     "end_time": "2024-09-11T16:55:11.552206Z",
     "start_time": "2024-09-11T16:55:11.226883Z"
    }
   },
   "cell_type": "code",
   "source": "train_ds[0]",
   "id": "aa0f51d49298a715",
   "outputs": [
    {
     "data": {
      "text/plain": [
       "(<PIL.Image.Image image mode=L size=28x28>, 5)"
      ]
     },
     "execution_count": 9,
     "metadata": {},
     "output_type": "execute_result"
    }
   ],
   "execution_count": 9
  },
  {
   "metadata": {
    "ExecuteTime": {
     "end_time": "2024-09-11T16:57:31.958896Z",
     "start_time": "2024-09-11T16:57:31.380576Z"
    }
   },
   "cell_type": "code",
   "source": "train_ds[0][0]",
   "id": "62f7fdb57895dcaf",
   "outputs": [
    {
     "data": {
      "text/plain": [
       "<PIL.Image.Image image mode=L size=28x28>"
      ],
      "image/png": "[encoded data removed]",
      "image/jpeg": "[encoded data removed]"
     },
     "execution_count": 10,
     "metadata": {},
     "output_type": "execute_result"
    }
   ],
   "execution_count": 10
  },
  {
   "metadata": {
    "ExecuteTime": {
     "end_time": "2024-09-11T16:59:04.047699Z",
     "start_time": "2024-09-11T16:59:03.076583Z"
    }
   },
   "cell_type": "code",
   "source": [
    "from mnist_recon_train import MNISTReconDataModule\n",
    "dm = MNISTReconDataModule()"
   ],
   "id": "c55eba713bd2a86e",
   "outputs": [],
   "execution_count": 13
  },
  {
   "metadata": {
    "ExecuteTime": {
     "end_time": "2024-09-11T16:59:05.158645Z",
     "start_time": "2024-09-11T16:59:04.413719Z"
    }
   },
   "cell_type": "code",
   "source": "dm.setup(stage='fit')",
   "id": "75eced2140987016",
   "outputs": [
    {
     "name": "stdout",
     "output_type": "stream",
     "text": [
      "\u001B[32m18:59:05\u001B[0m | \u001B[1mINFO    \u001B[0m | \u001B[1mTotal Dataset       : 60000 samples\u001B[0m\n",
      "\u001B[32m18:59:05\u001B[0m | \u001B[1mINFO    \u001B[0m | \u001B[1mTrain Dataset       : 48000 samples\u001B[0m\n",
      "\u001B[32m18:59:05\u001B[0m | \u001B[1mINFO    \u001B[0m | \u001B[1mValidation Dataset  : 12000 samples\u001B[0m\n"
     ]
    }
   ],
   "execution_count": 14
  },
  {
   "metadata": {
    "ExecuteTime": {
     "end_time": "2024-09-11T16:59:15.063272Z",
     "start_time": "2024-09-11T16:59:14.629032Z"
    }
   },
   "cell_type": "code",
   "source": "dm.train_dataset",
   "id": "e0965f43f06c67a3",
   "outputs": [
    {
     "data": {
      "text/plain": [
       "<torch.utils.data.dataset.Subset at 0x277d0e67530>"
      ]
     },
     "execution_count": 15,
     "metadata": {},
     "output_type": "execute_result"
    }
   ],
   "execution_count": 15
  },
  {
   "metadata": {
    "ExecuteTime": {
     "end_time": "2024-09-11T17:22:29.775342Z",
     "start_time": "2024-09-11T17:19:52.511883Z"
    }
   },
   "cell_type": "code",
   "source": [
    "dl = dm.train_dataloader()\n",
    "batch = next(iter(dl))"
   ],
   "id": "18444c43ccad20e9",
   "outputs": [],
   "execution_count": 19
  },
  {
   "metadata": {
    "ExecuteTime": {
     "end_time": "2024-09-11T17:22:39.265640Z",
     "start_time": "2024-09-11T17:22:38.909465Z"
    }
   },
   "cell_type": "code",
   "source": "len(batch)",
   "id": "8f5e047019a47a8e",
   "outputs": [
    {
     "data": {
      "text/plain": [
       "2"
      ]
     },
     "execution_count": 20,
     "metadata": {},
     "output_type": "execute_result"
    }
   ],
   "execution_count": 20
  },
  {
   "metadata": {
    "ExecuteTime": {
     "end_time": "2024-09-11T17:22:40.557818Z",
     "start_time": "2024-09-11T17:22:40.244148Z"
    }
   },
   "cell_type": "code",
   "source": [
    "X, y = batch\n",
    "X.shape, y.shape"
   ],
   "id": "9a6f7c48fc3219d3",
   "outputs": [
    {
     "data": {
      "text/plain": [
       "(torch.Size([128, 1, 28, 28]), torch.Size([128]))"
      ]
     },
     "execution_count": 21,
     "metadata": {},
     "output_type": "execute_result"
    }
   ],
   "execution_count": 21
  },
  {
   "metadata": {},
   "cell_type": "markdown",
   "source": "# Visualize Samples",
   "id": "7ebd8f5f5dc6f5ce"
  },
  {
   "metadata": {
    "ExecuteTime": {
     "end_time": "2024-09-11T17:24:58.744796Z",
     "start_time": "2024-09-11T17:24:55.227649Z"
    }
   },
   "cell_type": "code",
   "source": [
    "from utils.visualize import visualize_X_samples_grid\n",
    "visualize_X_samples_grid(X, y, n_samples=12, n_cols=4)"
   ],
   "id": "eb1dfef34fe377d1",
   "outputs": [
    {
     "data": {
      "text/plain": [
       "<Figure size 800x600 with 12 Axes>"
      ],
      "image/png": "[encoded data removed]"
     },
     "metadata": {},
     "output_type": "display_data"
    }
   ],
   "execution_count": 23
  },
  {
   "metadata": {},
   "cell_type": "markdown",
   "source": "# Check Model",
   "id": "21cae55e2167e5d8"
  },
  {
   "metadata": {
    "ExecuteTime": {
     "end_time": "2024-09-11T18:51:18.815888Z",
     "start_time": "2024-09-11T18:51:16.156692Z"
    }
   },
   "cell_type": "code",
   "source": [
    "encoding_dim = 128  # 2nd layer num features (the latent dim)\n",
    "flat_image_length = 28 * 28  # MNIST image shape : 28 * 28\n",
    "\n",
    "from mnist_recon_train import MNISTReconAutoencoder\n",
    "model = MNISTReconAutoencoder(flat_image_length, encoding_dim=128)"
   ],
   "id": "403db3e71eba54d8",
   "outputs": [],
   "execution_count": 32
  },
  {
   "metadata": {
    "ExecuteTime": {
     "end_time": "2024-09-11T18:53:46.900134Z",
     "start_time": "2024-09-11T18:53:46.579070Z"
    }
   },
   "cell_type": "code",
   "source": "X.shape, X[0].shape",
   "id": "81e0ea5f0b88d76e",
   "outputs": [
    {
     "data": {
      "text/plain": [
       "(torch.Size([128, 1, 28, 28]), torch.Size([1, 28, 28]))"
      ]
     },
     "execution_count": 36,
     "metadata": {},
     "output_type": "execute_result"
    }
   ],
   "execution_count": 36
  },
  {
   "metadata": {
    "ExecuteTime": {
     "end_time": "2024-09-11T18:54:01.112530Z",
     "start_time": "2024-09-11T18:54:00.778760Z"
    }
   },
   "cell_type": "code",
   "source": [
    "out = model(X)\n",
    "out.shape"
   ],
   "id": "7eb5a3e52935b021",
   "outputs": [
    {
     "name": "stdout",
     "output_type": "stream",
     "text": [
      "\u001B[32m20:54:01\u001B[0m | \u001B[34m\u001B[1mDEBUG   \u001B[0m | \u001B[34m\u001B[1mInput shape : torch.Size([128, 1, 28, 28])\u001B[0m\n",
      "\u001B[32m20:54:01\u001B[0m | \u001B[34m\u001B[1mDEBUG   \u001B[0m | \u001B[34m\u001B[1mFlattened : torch.Size([128, 784])\u001B[0m\n",
      "\u001B[32m20:54:01\u001B[0m | \u001B[34m\u001B[1mDEBUG   \u001B[0m | \u001B[34m\u001B[1mEncoder Output shape : torch.Size([128, 128])\u001B[0m\n",
      "\u001B[32m20:54:01\u001B[0m | \u001B[34m\u001B[1mDEBUG   \u001B[0m | \u001B[34m\u001B[1mDecoder Output shape : torch.Size([128, 784])\u001B[0m\n",
      "\u001B[32m20:54:01\u001B[0m | \u001B[34m\u001B[1mDEBUG   \u001B[0m | \u001B[34m\u001B[1mReshape back to original : torch.Size([128, 1, 28, 28])\u001B[0m\n"
     ]
    },
    {
     "data": {
      "text/plain": [
       "torch.Size([128, 1, 28, 28])"
      ]
     },
     "execution_count": 37,
     "metadata": {},
     "output_type": "execute_result"
    }
   ],
   "execution_count": 37
  },
  {
   "metadata": {
    "ExecuteTime": {
     "end_time": "2024-09-11T18:53:22.499318Z",
     "start_time": "2024-09-11T18:53:19.491272Z"
    }
   },
   "cell_type": "code",
   "source": [
    "out = model(X[0])\n",
    "out.shape"
   ],
   "id": "58b9d77d30fd0ad7",
   "outputs": [
    {
     "name": "stdout",
     "output_type": "stream",
     "text": [
      "\u001B[32m20:53:22\u001B[0m | \u001B[34m\u001B[1mDEBUG   \u001B[0m | \u001B[34m\u001B[1mInput shape : torch.Size([1, 28, 28])\u001B[0m\n",
      "\u001B[32m20:53:22\u001B[0m | \u001B[34m\u001B[1mDEBUG   \u001B[0m | \u001B[34m\u001B[1mFlattened : torch.Size([1, 784])\u001B[0m\n",
      "\u001B[32m20:53:22\u001B[0m | \u001B[34m\u001B[1mDEBUG   \u001B[0m | \u001B[34m\u001B[1mEncoder Output shape : torch.Size([1, 128])\u001B[0m\n",
      "\u001B[32m20:53:22\u001B[0m | \u001B[34m\u001B[1mDEBUG   \u001B[0m | \u001B[34m\u001B[1mDecoder Output shape : torch.Size([1, 784])\u001B[0m\n",
      "\u001B[32m20:53:22\u001B[0m | \u001B[34m\u001B[1mDEBUG   \u001B[0m | \u001B[34m\u001B[1mReshape back to original : torch.Size([1, 1, 28, 28])\u001B[0m\n"
     ]
    },
    {
     "data": {
      "text/plain": [
       "torch.Size([1, 1, 28, 28])"
      ]
     },
     "execution_count": 34,
     "metadata": {},
     "output_type": "execute_result"
    }
   ],
   "execution_count": 34
  },
  {
   "metadata": {},
   "cell_type": "markdown",
   "source": "# Check Lightning",
   "id": "b9811aeddd4482d"
  },
  {
   "metadata": {},
   "cell_type": "code",
   "outputs": [],
   "execution_count": null,
   "source": "",
   "id": "4061f3e223fa5e07"
  }
 ],
 "metadata": {
  "kernelspec": {
   "display_name": "Python 3",
   "language": "python",
   "name": "python3"
  },
  "language_info": {
   "codemirror_mode": {
    "name": "ipython",
    "version": 2
   },
   "file_extension": ".py",
   "mimetype": "text/x-python",
   "name": "python",
   "nbconvert_exporter": "python",
   "pygments_lexer": "ipython2",
   "version": "2.7.6"
  }
 },
 "nbformat": 4,
 "nbformat_minor": 5
}
