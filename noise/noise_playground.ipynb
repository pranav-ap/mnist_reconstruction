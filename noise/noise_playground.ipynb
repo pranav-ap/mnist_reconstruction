{
 "cells": [
  {
   "metadata": {
    "ExecuteTime": {
     "end_time": "2024-09-12T11:40:05.219467Z",
     "start_time": "2024-09-12T11:40:05.010514Z"
    }
   },
   "cell_type": "code",
   "source": [
    "%load_ext autoreload\n",
    "%autoreload 2"
   ],
   "id": "d2cac70f935f667a",
   "outputs": [],
   "execution_count": 2
  },
  {
   "cell_type": "code",
   "id": "initial_id",
   "metadata": {
    "collapsed": true,
    "ExecuteTime": {
     "end_time": "2024-09-12T11:40:18.819437Z",
     "start_time": "2024-09-12T11:40:06.042554Z"
    }
   },
   "source": [
    "\"\"\"\n",
    "Imports\n",
    "\"\"\"\n",
    "\n",
    "import os\n",
    "from dataclasses import dataclass\n",
    "\n",
    "import numpy as np\n",
    "import pandas as pd\n",
    "import torch\n",
    "import torch.nn as nn\n",
    "import torch.nn.functional as F\n",
    "import torchvision\n",
    "import torchvision.transforms as T\n",
    "import torchvision.transforms.functional as TF\n",
    "import lightning as L\n",
    "import lightning.pytorch as pl\n",
    "\n",
    "torch.set_float32_matmul_precision('medium')\n",
    "\n",
    "import matplotlib.pyplot as plt\n",
    "plt.style.use('seaborn-v0_8-whitegrid')\n",
    "%matplotlib inline\n",
    "import seaborn as sns\n",
    "sns.set_theme(style=\"darkgrid\")"
   ],
   "outputs": [],
   "execution_count": 3
  },
  {
   "metadata": {},
   "cell_type": "markdown",
   "source": "# Check Data Module",
   "id": "f47b97dbae6824a1"
  },
  {
   "metadata": {
    "ExecuteTime": {
     "end_time": "2024-09-12T11:40:19.242680Z",
     "start_time": "2024-09-12T11:40:18.823455Z"
    }
   },
   "cell_type": "code",
   "source": [
    "transform = T.Compose([\n",
    "    T.ToTensor(),\n",
    "    T.Normalize((0.5,), (0.5,)), \n",
    "])"
   ],
   "id": "e4aa56546861fb67",
   "outputs": [],
   "execution_count": 4
  },
  {
   "metadata": {
    "ExecuteTime": {
     "end_time": "2024-09-12T11:40:19.764378Z",
     "start_time": "2024-09-12T11:40:19.246697Z"
    }
   },
   "cell_type": "code",
   "source": [
    "train_ds = torchvision.datasets.MNIST(\n",
    "    root='D:/mnist_reconstruction/data/train',\n",
    "    train=True,\n",
    "    download=True,\n",
    "    transform=transform\n",
    ")\n",
    "\n",
    "train_ds"
   ],
   "id": "17e0f954ff057ba4",
   "outputs": [
    {
     "data": {
      "text/plain": [
       "Dataset MNIST\n",
       "    Number of datapoints: 60000\n",
       "    Root location: D:/mnist_reconstruction/data/train\n",
       "    Split: Train\n",
       "    StandardTransform\n",
       "Transform: Compose(\n",
       "               ToTensor()\n",
       "               Normalize(mean=(0.5,), std=(0.5,))\n",
       "           )"
      ]
     },
     "execution_count": 5,
     "metadata": {},
     "output_type": "execute_result"
    }
   ],
   "execution_count": 5
  },
  {
   "metadata": {
    "ExecuteTime": {
     "end_time": "2024-09-12T11:40:20.135449Z",
     "start_time": "2024-09-12T11:40:19.771498Z"
    }
   },
   "cell_type": "code",
   "source": "len(train_ds[0])",
   "id": "2d5502ce5fe51fb1",
   "outputs": [
    {
     "data": {
      "text/plain": [
       "2"
      ]
     },
     "execution_count": 6,
     "metadata": {},
     "output_type": "execute_result"
    }
   ],
   "execution_count": 6
  },
  {
   "metadata": {
    "ExecuteTime": {
     "end_time": "2024-09-12T11:40:20.507149Z",
     "start_time": "2024-09-12T11:40:20.140463Z"
    }
   },
   "cell_type": "code",
   "source": [
    "sample = train_ds[0][0]\n",
    "sample.shape"
   ],
   "id": "8f91dd2f113be1fc",
   "outputs": [
    {
     "data": {
      "text/plain": [
       "torch.Size([1, 28, 28])"
      ]
     },
     "execution_count": 7,
     "metadata": {},
     "output_type": "execute_result"
    }
   ],
   "execution_count": 7
  },
  {
   "metadata": {},
   "cell_type": "markdown",
   "source": "# Adding Noises",
   "id": "f2fab9e07b82017"
  },
  {
   "metadata": {
    "ExecuteTime": {
     "end_time": "2024-09-12T11:40:20.953185Z",
     "start_time": "2024-09-12T11:40:20.511167Z"
    }
   },
   "cell_type": "code",
   "source": "from skimage.util import random_noise",
   "id": "843c465783697ae8",
   "outputs": [],
   "execution_count": 8
  },
  {
   "metadata": {
    "ExecuteTime": {
     "end_time": "2024-09-12T11:40:21.368131Z",
     "start_time": "2024-09-12T11:40:20.957206Z"
    }
   },
   "cell_type": "code",
   "source": "TF.resize(TF.to_pil_image(sample), [128, 128])",
   "id": "736b28a59217abd9",
   "outputs": [
    {
     "data": {
      "text/plain": [
       "<PIL.Image.Image image mode=L size=128x128>"
      ],
      "image/png": "[encoded data removed]",
      "image/jpeg": "[encoded data removed]"
     },
     "execution_count": 9,
     "metadata": {},
     "output_type": "execute_result"
    }
   ],
   "execution_count": 9
  },
  {
   "metadata": {},
   "cell_type": "markdown",
   "source": "## Gaussian Noise",
   "id": "1bb85f3fd676ad8c"
  },
  {
   "metadata": {
    "ExecuteTime": {
     "end_time": "2024-09-12T11:40:21.714986Z",
     "start_time": "2024-09-12T11:40:21.372147Z"
    }
   },
   "cell_type": "code",
   "source": [
    "gauss_img = torch.tensor(\n",
    "    random_noise(sample, mode='gaussian', mean=0, var=0.05, clip=True)\n",
    ")\n",
    "\n",
    "gauss_img.shape"
   ],
   "id": "39b202731c8b50cb",
   "outputs": [
    {
     "data": {
      "text/plain": [
       "torch.Size([1, 28, 28])"
      ]
     },
     "execution_count": 10,
     "metadata": {},
     "output_type": "execute_result"
    }
   ],
   "execution_count": 10
  },
  {
   "metadata": {
    "ExecuteTime": {
     "end_time": "2024-09-12T11:40:22.091349Z",
     "start_time": "2024-09-12T11:40:21.721003Z"
    }
   },
   "cell_type": "code",
   "source": "TF.resize(TF.to_pil_image(gauss_img), [128, 128])",
   "id": "d36e7414707b6979",
   "outputs": [
    {
     "data": {
      "text/plain": [
       "<PIL.Image.Image image mode=L size=128x128>"
      ],
      "image/png": "[encoded data removed]",
      "image/jpeg": "[encoded data removed]"
     },
     "execution_count": 11,
     "metadata": {},
     "output_type": "execute_result"
    }
   ],
   "execution_count": 11
  },
  {
   "metadata": {},
   "cell_type": "markdown",
   "source": "## Salt & Pepper",
   "id": "632a255d9447c4ba"
  },
  {
   "metadata": {
    "ExecuteTime": {
     "end_time": "2024-09-12T11:40:22.508249Z",
     "start_time": "2024-09-12T11:40:22.098460Z"
    }
   },
   "cell_type": "code",
   "source": [
    "s_and_p = torch.tensor(\n",
    "    random_noise(sample, mode='s&p', salt_vs_pepper=0.5, clip=True)\n",
    ")\n",
    "\n",
    "TF.resize(TF.to_pil_image(s_and_p), [128, 128])"
   ],
   "id": "be513d8c0c986374",
   "outputs": [
    {
     "data": {
      "text/plain": [
       "<PIL.Image.Image image mode=L size=128x128>"
      ],
      "image/png": "[encoded data removed]",
      "image/jpeg": "[encoded data removed]"
     },
     "execution_count": 12,
     "metadata": {},
     "output_type": "execute_result"
    }
   ],
   "execution_count": 12
  },
  {
   "metadata": {},
   "cell_type": "markdown",
   "source": "## Speckle ",
   "id": "7b8e0c9bbc7edd99"
  },
  {
   "metadata": {
    "ExecuteTime": {
     "end_time": "2024-09-12T11:40:22.883827Z",
     "start_time": "2024-09-12T11:40:22.512271Z"
    }
   },
   "cell_type": "code",
   "source": [
    "speckle_noise = torch.tensor(\n",
    "    random_noise(sample, mode='speckle', mean=0, var=0.05, clip=True)\n",
    ")\n",
    "\n",
    "TF.resize(TF.to_pil_image(speckle_noise), [128, 128])"
   ],
   "id": "11f383778601fef6",
   "outputs": [
    {
     "data": {
      "text/plain": [
       "<PIL.Image.Image image mode=L size=128x128>"
      ],
      "image/png": "[encoded data removed]",
      "image/jpeg": "[encoded data removed]"
     },
     "execution_count": 13,
     "metadata": {},
     "output_type": "execute_result"
    }
   ],
   "execution_count": 13
  },
  {
   "metadata": {},
   "cell_type": "markdown",
   "source": "## Gaussian Blue",
   "id": "f0a99aa41218b334"
  },
  {
   "metadata": {
    "ExecuteTime": {
     "end_time": "2024-09-12T11:40:23.315680Z",
     "start_time": "2024-09-12T11:40:22.888846Z"
    }
   },
   "cell_type": "code",
   "source": [
    "blurred_image = TF.gaussian_blur(sample, kernel_size=(3, 3), sigma=1.0)\n",
    "TF.resize(TF.to_pil_image(blurred_image), [128, 128])"
   ],
   "id": "2fe111d3a8dafc40",
   "outputs": [
    {
     "data": {
      "text/plain": [
       "<PIL.Image.Image image mode=L size=128x128>"
      ],
      "image/png": "[encoded data removed]",
      "image/jpeg": "[encoded data removed]"
     },
     "execution_count": 14,
     "metadata": {},
     "output_type": "execute_result"
    }
   ],
   "execution_count": 14
  },
  {
   "metadata": {},
   "cell_type": "markdown",
   "source": "## RandomAdjustSharpness",
   "id": "37cfd5065067c7de"
  },
  {
   "metadata": {
    "ExecuteTime": {
     "end_time": "2024-09-12T11:40:23.682945Z",
     "start_time": "2024-09-12T11:40:23.320220Z"
    }
   },
   "cell_type": "code",
   "source": [
    "sharpness_transform = T.RandomAdjustSharpness(sharpness_factor=2.0)\n",
    "transformed_image = sharpness_transform(sample)\n",
    "TF.resize(TF.to_pil_image(transformed_image), [128, 128])"
   ],
   "id": "965780e447520fc9",
   "outputs": [
    {
     "data": {
      "text/plain": [
       "<PIL.Image.Image image mode=L size=128x128>"
      ],
      "image/png": "[encoded data removed]",
      "image/jpeg": "[encoded data removed]"
     },
     "execution_count": 15,
     "metadata": {},
     "output_type": "execute_result"
    }
   ],
   "execution_count": 15
  },
  {
   "metadata": {},
   "cell_type": "markdown",
   "source": "## Random Brightness",
   "id": "7f4b37f1377fd7cb"
  },
  {
   "metadata": {
    "ExecuteTime": {
     "end_time": "2024-09-12T11:40:24.091039Z",
     "start_time": "2024-09-12T11:40:23.687964Z"
    }
   },
   "cell_type": "code",
   "source": [
    "brightness_transform = T.ColorJitter(brightness=0.5)  \n",
    "random_brightness_transform = T.RandomApply([brightness_transform], p=0.5)\n",
    "transformed_image = random_brightness_transform(sample)\n",
    "TF.resize(TF.to_pil_image(transformed_image), [128, 128])"
   ],
   "id": "269e383127284315",
   "outputs": [
    {
     "data": {
      "text/plain": [
       "<PIL.Image.Image image mode=L size=128x128>"
      ],
      "image/png": "[encoded data removed]",
      "image/jpeg": "[encoded data removed]"
     },
     "execution_count": 16,
     "metadata": {},
     "output_type": "execute_result"
    }
   ],
   "execution_count": 16
  },
  {
   "metadata": {},
   "cell_type": "markdown",
   "source": "# Final Transform",
   "id": "3dd7be7a2e827b90"
  },
  {
   "metadata": {
    "ExecuteTime": {
     "end_time": "2024-09-12T11:58:07.387235Z",
     "start_time": "2024-09-12T11:58:07.049851Z"
    }
   },
   "cell_type": "code",
   "source": "from noise_transform import noise_transform",
   "id": "f71c6e140a7d5041",
   "outputs": [],
   "execution_count": 25
  },
  {
   "metadata": {
    "ExecuteTime": {
     "end_time": "2024-09-12T12:15:24.415881Z",
     "start_time": "2024-09-12T12:15:23.989203Z"
    }
   },
   "cell_type": "code",
   "source": [
    "print(f\"Before - {sample.shape}\")\n",
    "noisy_sample = noise_transform(sample)\n",
    "print(f\"After - {noisy_sample.shape}\")"
   ],
   "id": "713e5e53b0672754",
   "outputs": [
    {
     "name": "stdout",
     "output_type": "stream",
     "text": [
      "Before - torch.Size([1, 28, 28])\n",
      "After - torch.Size([1, 28, 28])\n"
     ]
    }
   ],
   "execution_count": 36
  },
  {
   "metadata": {
    "ExecuteTime": {
     "end_time": "2024-09-12T12:15:25.027451Z",
     "start_time": "2024-09-12T12:15:24.639565Z"
    }
   },
   "cell_type": "code",
   "source": "TF.resize(TF.to_pil_image(noisy_sample), [128, 128])",
   "id": "84a232916bdc88a9",
   "outputs": [
    {
     "data": {
      "text/plain": [
       "<PIL.Image.Image image mode=L size=128x128>"
      ],
      "image/png": "[encoded data removed]",
      "image/jpeg": "[encoded data removed]"
     },
     "execution_count": 37,
     "metadata": {},
     "output_type": "execute_result"
    }
   ],
   "execution_count": 37
  },
  {
   "metadata": {
    "ExecuteTime": {
     "end_time": "2024-09-12T11:40:25.635720Z",
     "start_time": "2024-09-12T11:40:25.627106Z"
    }
   },
   "cell_type": "code",
   "source": "",
   "id": "64491f6e755bb4d6",
   "outputs": [],
   "execution_count": 20
  }
 ],
 "metadata": {
  "kernelspec": {
   "display_name": "Python 3",
   "language": "python",
   "name": "python3"
  },
  "language_info": {
   "codemirror_mode": {
    "name": "ipython",
    "version": 2
   },
   "file_extension": ".py",
   "mimetype": "text/x-python",
   "name": "python",
   "nbconvert_exporter": "python",
   "pygments_lexer": "ipython2",
   "version": "2.7.6"
  }
 },
 "nbformat": 4,
 "nbformat_minor": 5
}
