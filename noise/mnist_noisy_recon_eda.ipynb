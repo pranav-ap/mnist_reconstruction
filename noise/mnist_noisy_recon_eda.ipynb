{
 "cells": [
  {
   "metadata": {
    "ExecuteTime": {
     "end_time": "2024-09-12T13:51:24.344126Z",
     "start_time": "2024-09-12T13:51:24.027813Z"
    }
   },
   "cell_type": "code",
   "source": [
    "%load_ext autoreload\n",
    "%autoreload 2"
   ],
   "id": "f310a88a12bce344",
   "outputs": [],
   "execution_count": 2
  },
  {
   "cell_type": "code",
   "id": "initial_id",
   "metadata": {
    "collapsed": true,
    "ExecuteTime": {
     "end_time": "2024-09-12T14:42:07.220823Z",
     "start_time": "2024-09-12T14:42:03.001485Z"
    }
   },
   "source": [
    "\"\"\"\n",
    "Imports\n",
    "\"\"\"\n",
    "\n",
    "import os\n",
    "from dataclasses import dataclass\n",
    "\n",
    "import numpy as np\n",
    "import pandas as pd\n",
    "import torch\n",
    "import torch.nn as nn\n",
    "import torch.nn.functional as F\n",
    "import torchvision\n",
    "import torchvision.transforms as T\n",
    "import torchvision.transforms.functional as TF\n",
    "import lightning as L\n",
    "import lightning.pytorch as pl\n",
    "\n",
    "torch.set_float32_matmul_precision('medium')\n",
    "\n",
    "import matplotlib.pyplot as plt\n",
    "plt.style.use('seaborn-v0_8-whitegrid')\n",
    "%matplotlib inline\n",
    "import seaborn as sns\n",
    "sns.set_theme(style=\"darkgrid\")"
   ],
   "outputs": [],
   "execution_count": 34
  },
  {
   "metadata": {},
   "cell_type": "markdown",
   "source": "# Check Dataset",
   "id": "2d242cd356d24d67"
  },
  {
   "metadata": {
    "ExecuteTime": {
     "end_time": "2024-09-12T14:47:41.345729Z",
     "start_time": "2024-09-12T14:47:36.851867Z"
    }
   },
   "cell_type": "code",
   "source": [
    "from mnist_noisy_recon_train import MNISTNoisyReconDataModule\n",
    "dm = MNISTNoisyReconDataModule()"
   ],
   "id": "c55eba713bd2a86e",
   "outputs": [],
   "execution_count": 41
  },
  {
   "metadata": {
    "ExecuteTime": {
     "end_time": "2024-09-12T14:47:41.757107Z",
     "start_time": "2024-09-12T14:47:41.350161Z"
    }
   },
   "cell_type": "code",
   "source": "dm.setup(stage='fit')",
   "id": "75eced2140987016",
   "outputs": [
    {
     "name": "stdout",
     "output_type": "stream",
     "text": [
      "\u001B[32m16:47:41\u001B[0m | \u001B[1mINFO    \u001B[0m | \u001B[1mTotal Dataset       : 60000 samples\u001B[0m\n",
      "\u001B[32m16:47:41\u001B[0m | \u001B[1mINFO    \u001B[0m | \u001B[1mTrain Dataset       : 48000 samples\u001B[0m\n",
      "\u001B[32m16:47:41\u001B[0m | \u001B[1mINFO    \u001B[0m | \u001B[1mValidation Dataset  : 12000 samples\u001B[0m\n"
     ]
    }
   ],
   "execution_count": 42
  },
  {
   "metadata": {
    "ExecuteTime": {
     "end_time": "2024-09-12T14:47:42.110991Z",
     "start_time": "2024-09-12T14:47:41.760652Z"
    }
   },
   "cell_type": "code",
   "source": "len(dm.train_dataset[0])",
   "id": "e408d8a5f3f5b470",
   "outputs": [
    {
     "data": {
      "text/plain": [
       "3"
      ]
     },
     "execution_count": 43,
     "metadata": {},
     "output_type": "execute_result"
    }
   ],
   "execution_count": 43
  },
  {
   "metadata": {
    "ExecuteTime": {
     "end_time": "2024-09-12T14:48:02.372481Z",
     "start_time": "2024-09-12T14:48:02.060191Z"
    }
   },
   "cell_type": "code",
   "source": [
    "original_image, noisy_image, cls = dm.train_dataset[0]\n",
    "original_image.shape, noisy_image.shape, cls"
   ],
   "id": "4ba559bf4e2b24d0",
   "outputs": [
    {
     "data": {
      "text/plain": [
       "(torch.Size([1, 28, 28]), torch.Size([1, 28, 28]), 3)"
      ]
     },
     "execution_count": 45,
     "metadata": {},
     "output_type": "execute_result"
    }
   ],
   "execution_count": 45
  },
  {
   "metadata": {
    "ExecuteTime": {
     "end_time": "2024-09-12T14:48:12.175328Z",
     "start_time": "2024-09-12T14:48:11.865566Z"
    }
   },
   "cell_type": "code",
   "source": "TF.resize(TF.to_pil_image(original_image), [128, 128])",
   "id": "823ec397a55826eb",
   "outputs": [
    {
     "data": {
      "text/plain": [
       "<PIL.Image.Image image mode=L size=128x128>"
      ],
      "image/png": "[encoded data removed]",
      "image/jpeg": "[encoded data removed]"
     },
     "execution_count": 46,
     "metadata": {},
     "output_type": "execute_result"
    }
   ],
   "execution_count": 46
  },
  {
   "metadata": {
    "ExecuteTime": {
     "end_time": "2024-09-12T14:48:19.840283Z",
     "start_time": "2024-09-12T14:48:19.517613Z"
    }
   },
   "cell_type": "code",
   "source": "TF.resize(TF.to_pil_image(noisy_image), [128, 128])",
   "id": "8b0fcbcc2dd303c8",
   "outputs": [
    {
     "data": {
      "text/plain": [
       "<PIL.Image.Image image mode=L size=128x128>"
      ],
      "image/png": "[encoded data removed]",
      "image/jpeg": "[encoded data removed]"
     },
     "execution_count": 47,
     "metadata": {},
     "output_type": "execute_result"
    }
   ],
   "execution_count": 47
  },
  {
   "metadata": {},
   "cell_type": "markdown",
   "source": "# Check Data Module",
   "id": "932f32aa7ca8414d"
  },
  {
   "metadata": {
    "ExecuteTime": {
     "end_time": "2024-09-12T15:15:40.735016Z",
     "start_time": "2024-09-12T15:10:45.881613Z"
    }
   },
   "cell_type": "code",
   "source": [
    "dl = dm.train_dataloader()\n",
    "original_images, noisy_images, y = next(iter(dl))"
   ],
   "id": "18444c43ccad20e9",
   "outputs": [
    {
     "ename": "AttributeError",
     "evalue": "'int' object has no attribute 'shape'",
     "output_type": "error",
     "traceback": [
      "\u001B[1;31m---------------------------------------------------------------------------\u001B[0m",
      "\u001B[1;31mAttributeError\u001B[0m                            Traceback (most recent call last)",
      "Cell \u001B[1;32mIn[48], line 3\u001B[0m\n\u001B[0;32m      1\u001B[0m dl \u001B[38;5;241m=\u001B[39m dm\u001B[38;5;241m.\u001B[39mtrain_dataloader()\n\u001B[0;32m      2\u001B[0m original_images, noisy_images, clss \u001B[38;5;241m=\u001B[39m \u001B[38;5;28mnext\u001B[39m(\u001B[38;5;28miter\u001B[39m(dl))\n\u001B[1;32m----> 3\u001B[0m original_image\u001B[38;5;241m.\u001B[39mshape, noisy_image\u001B[38;5;241m.\u001B[39mshape, \u001B[38;5;28;43mcls\u001B[39;49m\u001B[38;5;241;43m.\u001B[39;49m\u001B[43mshape\u001B[49m\n",
      "\u001B[1;31mAttributeError\u001B[0m: 'int' object has no attribute 'shape'"
     ]
    }
   ],
   "execution_count": 48
  },
  {
   "metadata": {
    "ExecuteTime": {
     "end_time": "2024-09-12T15:25:14.243594Z",
     "start_time": "2024-09-12T15:25:13.914538Z"
    }
   },
   "cell_type": "code",
   "source": "original_images.shape, noisy_images.shape, y.shape",
   "id": "4d50919c2c164b7b",
   "outputs": [
    {
     "data": {
      "text/plain": [
       "(torch.Size([512, 1, 28, 28]), torch.Size([512, 1, 28, 28]), torch.Size([512]))"
      ]
     },
     "execution_count": 50,
     "metadata": {},
     "output_type": "execute_result"
    }
   ],
   "execution_count": 50
  },
  {
   "metadata": {},
   "cell_type": "markdown",
   "source": "# Visualize Samples",
   "id": "7ebd8f5f5dc6f5ce"
  },
  {
   "metadata": {
    "ExecuteTime": {
     "end_time": "2024-09-12T14:17:53.009710Z",
     "start_time": "2024-09-12T14:17:49.958876Z"
    }
   },
   "cell_type": "code",
   "source": [
    "from utils.visualize import visualize_X_samples_grid\n",
    "visualize_X_samples_grid(original_images, y, n_samples=12, n_cols=4)"
   ],
   "id": "eb1dfef34fe377d1",
   "outputs": [
    {
     "data": {
      "text/plain": [
       "<Figure size 800x600 with 12 Axes>"
      ],
      "image/png": "[encoded data removed]"
     },
     "metadata": {},
     "output_type": "display_data"
    }
   ],
   "execution_count": 22
  },
  {
   "metadata": {},
   "cell_type": "markdown",
   "source": "# Check Model",
   "id": "21cae55e2167e5d8"
  },
  {
   "metadata": {
    "ExecuteTime": {
     "end_time": "2024-09-11T18:51:18.815888Z",
     "start_time": "2024-09-11T18:51:16.156692Z"
    }
   },
   "cell_type": "code",
   "source": [
    "encoding_dim = 128  # 2nd layer num features (the latent dim)\n",
    "flat_image_length = 28 * 28  # MNIST image shape : 28 * 28\n",
    "\n",
    "from mnist_recon_train import MNISTReconAutoencoder\n",
    "model = MNISTReconAutoencoder(flat_image_length, encoding_dim=128)"
   ],
   "id": "403db3e71eba54d8",
   "outputs": [],
   "execution_count": 32
  },
  {
   "metadata": {
    "ExecuteTime": {
     "end_time": "2024-09-11T18:53:46.900134Z",
     "start_time": "2024-09-11T18:53:46.579070Z"
    }
   },
   "cell_type": "code",
   "source": "X.shape, X[0].shape",
   "id": "81e0ea5f0b88d76e",
   "outputs": [
    {
     "data": {
      "text/plain": [
       "(torch.Size([128, 1, 28, 28]), torch.Size([1, 28, 28]))"
      ]
     },
     "execution_count": 36,
     "metadata": {},
     "output_type": "execute_result"
    }
   ],
   "execution_count": 36
  },
  {
   "metadata": {
    "ExecuteTime": {
     "end_time": "2024-09-11T18:54:01.112530Z",
     "start_time": "2024-09-11T18:54:00.778760Z"
    }
   },
   "cell_type": "code",
   "source": [
    "out = model(X)\n",
    "out.shape"
   ],
   "id": "7eb5a3e52935b021",
   "outputs": [
    {
     "name": "stdout",
     "output_type": "stream",
     "text": [
      "\u001B[32m20:54:01\u001B[0m | \u001B[34m\u001B[1mDEBUG   \u001B[0m | \u001B[34m\u001B[1mInput shape : torch.Size([128, 1, 28, 28])\u001B[0m\n",
      "\u001B[32m20:54:01\u001B[0m | \u001B[34m\u001B[1mDEBUG   \u001B[0m | \u001B[34m\u001B[1mFlattened : torch.Size([128, 784])\u001B[0m\n",
      "\u001B[32m20:54:01\u001B[0m | \u001B[34m\u001B[1mDEBUG   \u001B[0m | \u001B[34m\u001B[1mEncoder Output shape : torch.Size([128, 128])\u001B[0m\n",
      "\u001B[32m20:54:01\u001B[0m | \u001B[34m\u001B[1mDEBUG   \u001B[0m | \u001B[34m\u001B[1mDecoder Output shape : torch.Size([128, 784])\u001B[0m\n",
      "\u001B[32m20:54:01\u001B[0m | \u001B[34m\u001B[1mDEBUG   \u001B[0m | \u001B[34m\u001B[1mReshape back to original : torch.Size([128, 1, 28, 28])\u001B[0m\n"
     ]
    },
    {
     "data": {
      "text/plain": [
       "torch.Size([128, 1, 28, 28])"
      ]
     },
     "execution_count": 37,
     "metadata": {},
     "output_type": "execute_result"
    }
   ],
   "execution_count": 37
  },
  {
   "metadata": {
    "ExecuteTime": {
     "end_time": "2024-09-11T18:53:22.499318Z",
     "start_time": "2024-09-11T18:53:19.491272Z"
    }
   },
   "cell_type": "code",
   "source": [
    "out = model(X[0])\n",
    "out.shape"
   ],
   "id": "58b9d77d30fd0ad7",
   "outputs": [
    {
     "name": "stdout",
     "output_type": "stream",
     "text": [
      "\u001B[32m20:53:22\u001B[0m | \u001B[34m\u001B[1mDEBUG   \u001B[0m | \u001B[34m\u001B[1mInput shape : torch.Size([1, 28, 28])\u001B[0m\n",
      "\u001B[32m20:53:22\u001B[0m | \u001B[34m\u001B[1mDEBUG   \u001B[0m | \u001B[34m\u001B[1mFlattened : torch.Size([1, 784])\u001B[0m\n",
      "\u001B[32m20:53:22\u001B[0m | \u001B[34m\u001B[1mDEBUG   \u001B[0m | \u001B[34m\u001B[1mEncoder Output shape : torch.Size([1, 128])\u001B[0m\n",
      "\u001B[32m20:53:22\u001B[0m | \u001B[34m\u001B[1mDEBUG   \u001B[0m | \u001B[34m\u001B[1mDecoder Output shape : torch.Size([1, 784])\u001B[0m\n",
      "\u001B[32m20:53:22\u001B[0m | \u001B[34m\u001B[1mDEBUG   \u001B[0m | \u001B[34m\u001B[1mReshape back to original : torch.Size([1, 1, 28, 28])\u001B[0m\n"
     ]
    },
    {
     "data": {
      "text/plain": [
       "torch.Size([1, 1, 28, 28])"
      ]
     },
     "execution_count": 34,
     "metadata": {},
     "output_type": "execute_result"
    }
   ],
   "execution_count": 34
  },
  {
   "metadata": {},
   "cell_type": "markdown",
   "source": "# Check Lightning",
   "id": "b9811aeddd4482d"
  },
  {
   "metadata": {},
   "cell_type": "code",
   "outputs": [],
   "execution_count": null,
   "source": "",
   "id": "4061f3e223fa5e07"
  }
 ],
 "metadata": {
  "kernelspec": {
   "display_name": "Python 3",
   "language": "python",
   "name": "python3"
  },
  "language_info": {
   "codemirror_mode": {
    "name": "ipython",
    "version": 2
   },
   "file_extension": ".py",
   "mimetype": "text/x-python",
   "name": "python",
   "nbconvert_exporter": "python",
   "pygments_lexer": "ipython2",
   "version": "2.7.6"
  }
 },
 "nbformat": 4,
 "nbformat_minor": 5
}
